{
 "cells": [
  {
   "cell_type": "code",
   "execution_count": 1,
   "id": "bb3a424b",
   "metadata": {},
   "outputs": [],
   "source": [
    "import cv2\n",
    "import numpy as np\n",
    "import os"
   ]
  },
  {
   "cell_type": "markdown",
   "id": "be9e0bec",
   "metadata": {},
   "source": [
    "# Draw Rectangle on Image"
   ]
  },
  {
   "cell_type": "code",
   "execution_count": 2,
   "id": "774ffbd4",
   "metadata": {},
   "outputs": [
    {
     "data": {
      "text/plain": [
       "['1.jpg', '2.jpg', '3.jpg', '4.jpg', '5.jpg']"
      ]
     },
     "execution_count": 2,
     "metadata": {},
     "output_type": "execute_result"
    }
   ],
   "source": [
    "os.listdir('Data/Image/')"
   ]
  },
  {
   "cell_type": "code",
   "execution_count": 12,
   "id": "8c049bb2",
   "metadata": {},
   "outputs": [],
   "source": [
    "image_path = 'Data/Image/1.jpg'\n",
    "image = cv2.imread(image_path)\n",
    "image = cv2.resize(image,(1280,720))\n",
    "pt1 = (750,400)\n",
    "pt2 = (850,300)\n",
    "color = (0,255,0) #(B, G, R)\n",
    "thickness = 4\n",
    "lineType  = cv2.LINE_4\n",
    "# rectangle(img, pt1, pt2, color[, thickness[, lineType[, shift]]])\n",
    "img_rect = cv2.rectangle(image,pt1,pt2,color,thickness,lineType)\n",
    "cv2.imshow('Rectangle on Image',img_rect)\n",
    "cv2.waitKey(0)\n",
    "cv2.destroyAllWindows()"
   ]
  },
  {
   "cell_type": "markdown",
   "id": "27e2125c",
   "metadata": {},
   "source": [
    "# Fill Rectange on Image"
   ]
  },
  {
   "cell_type": "code",
   "execution_count": 14,
   "id": "f95aacc9",
   "metadata": {},
   "outputs": [],
   "source": [
    "image_path = 'Data/Image/1.jpg'\n",
    "image = cv2.imread(image_path)\n",
    "image = cv2.resize(image,(1280,720))\n",
    "pt1 = (750,400)\n",
    "pt2 = (850,300)\n",
    "color = (255,255,0) #(B, G, R)\n",
    "thickness = -1\n",
    "lineType  = cv2.LINE_4\n",
    "# rectangle(img, pt1, pt2, color[, thickness[, lineType[, shift]]])\n",
    "img_rect = cv2.rectangle(image,pt1,pt2,color,thickness,lineType)\n",
    "cv2.imshow('Rectangle on Image',img_rect)\n",
    "cv2.waitKey(0)\n",
    "cv2.destroyAllWindows()"
   ]
  },
  {
   "cell_type": "markdown",
   "id": "963ed18a",
   "metadata": {},
   "source": [
    "# Text On Rectange on Image"
   ]
  },
  {
   "cell_type": "code",
   "execution_count": 16,
   "id": "dfbb0d4d",
   "metadata": {},
   "outputs": [],
   "source": [
    "image_path = 'Data/Image/1.jpg'\n",
    "image = cv2.imread(image_path)\n",
    "image = cv2.resize(image,(1280,720))\n",
    "pt1 = (750,400)\n",
    "pt2 = (850,300)\n",
    "color = (255,255,0) #(B, G, R)\n",
    "thickness = -1\n",
    "lineType  = cv2.LINE_4\n",
    "# rectangle(img, pt1, pt2, color[, thickness[, lineType[, shift]]])\n",
    "img_rect = cv2.rectangle(image,pt1,pt2,color,thickness,lineType)\n",
    "# Text on Image\n",
    "text = 'Aakash'\n",
    "org = (750,400)\n",
    "fontFace = cv2.FONT_HERSHEY_SIMPLEX\n",
    "fontScale = 1\n",
    "color = (0,0,255)\n",
    "lineType = cv2.LINE_4\n",
    "img_text = cv2.putText(img_rect,text,org,fontFace,fontScale,color,lineType)\n",
    "cv2.imshow('Rectangle on Image',img_text)\n",
    "cv2.waitKey(0)\n",
    "cv2.destroyAllWindows()"
   ]
  },
  {
   "cell_type": "markdown",
   "id": "4a72d2d9",
   "metadata": {},
   "source": [
    "# Text Above rectange on Image"
   ]
  },
  {
   "cell_type": "code",
   "execution_count": 17,
   "id": "067d3928",
   "metadata": {},
   "outputs": [],
   "source": [
    "image_path = 'Data/Image/1.jpg'\n",
    "image = cv2.imread(image_path)\n",
    "image = cv2.resize(image,(1280,720))\n",
    "pt1 = (750,400)\n",
    "pt2 = (850,300)\n",
    "color = (255,255,0) #(B, G, R)\n",
    "thickness = -1\n",
    "lineType  = cv2.LINE_4\n",
    "# rectangle(img, pt1, pt2, color[, thickness[, lineType[, shift]]])\n",
    "img_rect = cv2.rectangle(image,pt1,pt2,color,thickness,lineType)\n",
    "# Text on Image\n",
    "text = 'Aakash'\n",
    "org = (750,300)\n",
    "fontFace = cv2.FONT_HERSHEY_SIMPLEX\n",
    "fontScale = 1\n",
    "color = (0,0,255)\n",
    "lineType = cv2.LINE_4\n",
    "img_text = cv2.putText(img_rect,text,org,fontFace,fontScale,color,lineType)\n",
    "cv2.imshow('Rectangle on Image',img_text)\n",
    "cv2.waitKey(0)\n",
    "cv2.destroyAllWindows()"
   ]
  },
  {
   "cell_type": "markdown",
   "id": "40164cd6",
   "metadata": {},
   "source": [
    "# Save Image"
   ]
  },
  {
   "cell_type": "code",
   "execution_count": 19,
   "id": "ceb25861",
   "metadata": {},
   "outputs": [],
   "source": [
    "image_path = 'Data/Image/1.jpg'\n",
    "image = cv2.imread(image_path)\n",
    "image = cv2.resize(image,(1280,720))\n",
    "pt1 = (750,400)\n",
    "pt2 = (850,300)\n",
    "color = (255,255,0) #(B, G, R)\n",
    "thickness = -1\n",
    "lineType  = cv2.LINE_4\n",
    "# rectangle(img, pt1, pt2, color[, thickness[, lineType[, shift]]])\n",
    "img_rect = cv2.rectangle(image,pt1,pt2,color,thickness,lineType)\n",
    "# Text on Image\n",
    "text = 'Aakash'\n",
    "org = (750,300)\n",
    "fontFace = cv2.FONT_HERSHEY_SIMPLEX\n",
    "fontScale = 1\n",
    "color = (0,0,255)\n",
    "lineType = cv2.LINE_4\n",
    "img_text = cv2.putText(img_rect,text,org,fontFace,fontScale,color,lineType)\n",
    "cv2.imwrite('Data/rectaagle.jpg',img_text)\n",
    "cv2.imshow('Rectangle on Image',img_text)\n",
    "cv2.waitKey(0)\n",
    "cv2.destroyAllWindows()"
   ]
  },
  {
   "cell_type": "code",
   "execution_count": null,
   "id": "27f567df",
   "metadata": {},
   "outputs": [],
   "source": []
  }
 ],
 "metadata": {
  "kernelspec": {
   "display_name": "Python 3 (ipykernel)",
   "language": "python",
   "name": "python3"
  },
  "language_info": {
   "codemirror_mode": {
    "name": "ipython",
    "version": 3
   },
   "file_extension": ".py",
   "mimetype": "text/x-python",
   "name": "python",
   "nbconvert_exporter": "python",
   "pygments_lexer": "ipython3",
   "version": "3.8.0"
  }
 },
 "nbformat": 4,
 "nbformat_minor": 5
}
