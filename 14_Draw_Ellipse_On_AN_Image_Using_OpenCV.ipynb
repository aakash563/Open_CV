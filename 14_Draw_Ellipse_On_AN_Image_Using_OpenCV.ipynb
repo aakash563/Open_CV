{
 "cells": [
  {
   "cell_type": "code",
   "execution_count": 1,
   "id": "b15e470a",
   "metadata": {},
   "outputs": [],
   "source": [
    "import cv2\n",
    "import numpy as np\n",
    "import os"
   ]
  },
  {
   "cell_type": "code",
   "execution_count": 2,
   "id": "8ee5eabc",
   "metadata": {},
   "outputs": [
    {
     "data": {
      "text/plain": [
       "['1.jpg', '2.jpg', '3.jpg', '4.jpg', '5.jpg']"
      ]
     },
     "execution_count": 2,
     "metadata": {},
     "output_type": "execute_result"
    }
   ],
   "source": [
    "os.listdir('Data/Image/')"
   ]
  },
  {
   "cell_type": "code",
   "execution_count": 8,
   "id": "38367f34",
   "metadata": {},
   "outputs": [],
   "source": [
    "img_path = 'Data/Image/1.jpg'\n",
    "img = cv2.imread(img_path)\n",
    "img_size = cv2.resize(img,(1280,720))\n",
    "center = (800,300)\n",
    "axes = (100,150) # (x,y)\n",
    "angle = 30\n",
    "startAngle = 0\n",
    "endAngle = 360\n",
    "color = (12,200,34) #(B,G,R)\n",
    "thickness = 4\n",
    "lineType = cv2.LINE_4\n",
    "shift = 0\n",
    "# ellipse(img, center, axes, angle, startAngle, endAngle, color[, thickness[, lineType[, shift]]]) -> img\n",
    "img_ellipse = cv2.ellipse(img_size,center,axes,angle,startAngle,endAngle,color,thickness,lineType,shift)\n",
    "cv2.imshow('ellipse',img_ellipse)\n",
    "cv2.waitKey(0)\n",
    "cv2.destroyAllWindows()"
   ]
  },
  {
   "cell_type": "markdown",
   "id": "49864296",
   "metadata": {},
   "source": [
    "# Fill Ellipse"
   ]
  },
  {
   "cell_type": "code",
   "execution_count": 9,
   "id": "4fae3cde",
   "metadata": {},
   "outputs": [],
   "source": [
    "img_path = 'Data/Image/1.jpg'\n",
    "img = cv2.imread(img_path)\n",
    "img_size = cv2.resize(img,(1280,720))\n",
    "center = (800,300)\n",
    "axes = (100,150) # (x,y)\n",
    "angle = 30\n",
    "startAngle = 0\n",
    "endAngle = 360\n",
    "color = (12,200,34) #(B,G,R)\n",
    "thickness = -1\n",
    "lineType = cv2.LINE_4\n",
    "shift = 0\n",
    "# ellipse(img, center, axes, angle, startAngle, endAngle, color[, thickness[, lineType[, shift]]]) -> img\n",
    "img_ellipse = cv2.ellipse(img_size,center,axes,angle,startAngle,endAngle,color,thickness,lineType,shift)\n",
    "cv2.imshow('ellipse',img_ellipse)\n",
    "cv2.waitKey(0)\n",
    "cv2.destroyAllWindows()"
   ]
  },
  {
   "cell_type": "code",
   "execution_count": 10,
   "id": "44646e08",
   "metadata": {},
   "outputs": [],
   "source": [
    "img_path = 'Data/Image/1.jpg'\n",
    "img = cv2.imread(img_path)\n",
    "img_size = cv2.resize(img,(1280,720))\n",
    "center = (800,300)\n",
    "axes = (100,150) # (x,y)\n",
    "angle = 30\n",
    "startAngle = 100\n",
    "endAngle = 360\n",
    "color = (12,200,34) #(B,G,R)\n",
    "thickness = -1\n",
    "lineType = cv2.LINE_4\n",
    "shift = 0\n",
    "# ellipse(img, center, axes, angle, startAngle, endAngle, color[, thickness[, lineType[, shift]]]) -> img\n",
    "img_ellipse = cv2.ellipse(img_size,center,axes,angle,startAngle,endAngle,color,thickness,lineType,shift)\n",
    "cv2.imshow('ellipse',img_ellipse)\n",
    "cv2.waitKey(0)\n",
    "cv2.destroyAllWindows()"
   ]
  },
  {
   "cell_type": "code",
   "execution_count": 12,
   "id": "245cbeb4",
   "metadata": {},
   "outputs": [],
   "source": [
    "img_path = 'Data/Image/1.jpg'\n",
    "img = cv2.imread(img_path)\n",
    "img_size = cv2.resize(img,(1280,720))\n",
    "center = (800,300)\n",
    "axes = (100,150) # (x,y)\n",
    "angle = 30\n",
    "startAngle = 100\n",
    "endAngle = 360\n",
    "color = (12,200,34) #(B,G,R)\n",
    "thickness = 5\n",
    "lineType = cv2.LINE_4\n",
    "shift = 0\n",
    "# ellipse(img, center, axes, angle, startAngle, endAngle, color[, thickness[, lineType[, shift]]]) -> img\n",
    "img_ellipse = cv2.ellipse(img_size,center,axes,angle,startAngle,endAngle,color,thickness,lineType,shift)\n",
    "cv2.imshow('ellipse',img_ellipse)\n",
    "cv2.waitKey(0)\n",
    "cv2.destroyAllWindows()"
   ]
  },
  {
   "cell_type": "markdown",
   "id": "9ea67257",
   "metadata": {},
   "source": [
    "# Ellipse And Text"
   ]
  },
  {
   "cell_type": "code",
   "execution_count": 14,
   "id": "5f7d2286",
   "metadata": {},
   "outputs": [],
   "source": [
    "img_path = 'Data/Image/1.jpg'\n",
    "img = cv2.imread(img_path)\n",
    "img_size = cv2.resize(img,(1280,720))\n",
    "center = (800,300)\n",
    "axes = (100,150) # (x,y)\n",
    "angle = 30\n",
    "startAngle = 0\n",
    "endAngle = 360\n",
    "color = (12,200,34) #(B,G,R)\n",
    "thickness = 5\n",
    "lineType = cv2.LINE_4\n",
    "shift = 0\n",
    "# ellipse(img, center, axes, angle, startAngle, endAngle, color[, thickness[, lineType[, shift]]]) -> img\n",
    "img_ellipse = cv2.ellipse(img_size,center,axes,angle,startAngle,endAngle,color,thickness,lineType,shift)\n",
    "# putText(img, text, org, fontFace, fontScale, color[, thickness[, lineType[, bottomLeftOrigin]]]) -> img\n",
    "img_text = cv2.putText(img_ellipse,'Aakash',(800,300),cv2.FONT_HERSHEY_COMPLEX,2,(24,43,245),3)\n",
    "cv2.imshow('ellipse',img_text)\n",
    "cv2.waitKey(0)\n",
    "cv2.destroyAllWindows()"
   ]
  },
  {
   "cell_type": "code",
   "execution_count": null,
   "id": "aaf9cc8a",
   "metadata": {},
   "outputs": [],
   "source": []
  }
 ],
 "metadata": {
  "kernelspec": {
   "display_name": "Python 3 (ipykernel)",
   "language": "python",
   "name": "python3"
  },
  "language_info": {
   "codemirror_mode": {
    "name": "ipython",
    "version": 3
   },
   "file_extension": ".py",
   "mimetype": "text/x-python",
   "name": "python",
   "nbconvert_exporter": "python",
   "pygments_lexer": "ipython3",
   "version": "3.8.0"
  }
 },
 "nbformat": 4,
 "nbformat_minor": 5
}
