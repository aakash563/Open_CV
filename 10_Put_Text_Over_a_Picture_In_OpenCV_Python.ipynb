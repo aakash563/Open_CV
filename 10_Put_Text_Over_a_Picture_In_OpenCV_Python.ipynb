{
 "cells": [
  {
   "cell_type": "markdown",
   "id": "d4811de7",
   "metadata": {},
   "source": [
    "# Print Text on Image"
   ]
  },
  {
   "cell_type": "markdown",
   "id": "28050053",
   "metadata": {},
   "source": [
    "# How to write Text on Image\n",
    "* Syntax: cv2.putText(image, text, org, font, fontScale, color, thikness, linetype)"
   ]
  },
  {
   "cell_type": "code",
   "execution_count": 1,
   "id": "6d36e14a",
   "metadata": {},
   "outputs": [],
   "source": [
    "import cv2\n",
    "import numpy as np\n",
    "import os"
   ]
  },
  {
   "cell_type": "code",
   "execution_count": 2,
   "id": "c9d11ee2",
   "metadata": {},
   "outputs": [
    {
     "data": {
      "text/plain": [
       "['1.jpg', '2.jpg', '3.jpg', '4.jpg', '5.jpg']"
      ]
     },
     "execution_count": 2,
     "metadata": {},
     "output_type": "execute_result"
    }
   ],
   "source": [
    "path = 'Data/Image/'\n",
    "os.listdir(path)"
   ]
  },
  {
   "cell_type": "code",
   "execution_count": 4,
   "id": "ca9757e0",
   "metadata": {},
   "outputs": [],
   "source": [
    "img_path = path+'/'+'1.jpg'\n",
    "img = cv2.imread(img_path) # Numpy array\n",
    "image = cv2.resize(img,(1280,720))\n",
    "text = \"Aakash\"\n",
    "org = (100,200)\n",
    "font = cv2.FONT_HERSHEY_COMPLEX\n",
    "fontScale = 6\n",
    "color = (0,0,255) #(B, G, R)\n",
    "thickness = 3\n",
    "lineType = cv2.LINE_AA\n",
    "bottomLeftOrigin = False\n",
    "# putText(img, text, org, fontFace, fontScale, \n",
    "# color[, thickness[, lineType[, bottomLeftOrigin]]])\n",
    "img_text = cv2.putText(image,text,org,font,fontScale,color,thickness,lineType,bottomLeftOrigin)\n",
    "cv2.imshow('Text Image',img_text)\n",
    "cv2.waitKey(0)\n",
    "cv2.destroyAllWindows()"
   ]
  },
  {
   "cell_type": "code",
   "execution_count": 5,
   "id": "aae3ccc4",
   "metadata": {},
   "outputs": [],
   "source": [
    "img_path = path+'/'+'1.jpg'\n",
    "img = cv2.imread(img_path) # Numpy array\n",
    "image = cv2.resize(img,(1280,720))\n",
    "text = \"Aakash\"\n",
    "org = (100,200)\n",
    "font = cv2.FONT_HERSHEY_COMPLEX\n",
    "fontScale = 6\n",
    "color = (0,0,255) #(B, G, R)\n",
    "thickness = 3\n",
    "lineType = cv2.LINE_AA\n",
    "bottomLeftOrigin = True\n",
    "# putText(img, text, org, fontFace, fontScale, \n",
    "# color[, thickness[, lineType[, bottomLeftOrigin]]])\n",
    "img_text = cv2.putText(image,text,org,font,fontScale,color,thickness,lineType,bottomLeftOrigin)\n",
    "cv2.imshow('Text Image',img_text)\n",
    "cv2.waitKey(0)\n",
    "cv2.destroyAllWindows()"
   ]
  },
  {
   "cell_type": "code",
   "execution_count": 6,
   "id": "1daa7521",
   "metadata": {},
   "outputs": [],
   "source": [
    "img_path = path+'/'+'1.jpg'\n",
    "img = cv2.imread(img_path) # Numpy array\n",
    "image = cv2.resize(img,(1280,720))\n",
    "text = \"Aakash\"\n",
    "org = (100,200)\n",
    "font = cv2.FONT_HERSHEY_COMPLEX\n",
    "fontScale = 6\n",
    "color = (0,0,255) #(B, G, R)\n",
    "thickness = 3\n",
    "lineType = cv2.LINE_AA\n",
    "bottomLeftOrigin = True\n",
    "# putText(img, text, org, fontFace, fontScale, \n",
    "# color[, thickness[, lineType[, bottomLeftOrigin]]])\n",
    "img_text = cv2.putText(image,text,org,font,fontScale,color,thickness,lineType,bottomLeftOrigin)\n",
    "img_text = cv2.putText(image,text,org,font,fontScale,color,thickness,lineType,bottomLeftOrigin=False)\n",
    "cv2.imshow('Text Image',img_text)\n",
    "cv2.waitKey(0)\n",
    "cv2.destroyAllWindows()"
   ]
  },
  {
   "cell_type": "code",
   "execution_count": 7,
   "id": "1bcf8528",
   "metadata": {},
   "outputs": [],
   "source": [
    "img_path = path+'/'+'1.jpg'\n",
    "img = cv2.imread(img_path) # Numpy array\n",
    "image = cv2.resize(img,(1280,720))\n",
    "text = \"Singh\"\n",
    "org = (50,100)\n",
    "font = cv2.FONT_HERSHEY_COMPLEX_SMALL\n",
    "fontScale = 6\n",
    "color = (87,27,255) #(B, G, R)\n",
    "thickness = 3\n",
    "lineType = cv2.LINE_AA\n",
    "bottomLeftOrigin = True\n",
    "# putText(img, text, org, fontFace, fontScale, \n",
    "# color[, thickness[, lineType[, bottomLeftOrigin]]])\n",
    "img_text = cv2.putText(image,text,org,font,fontScale,color,thickness,lineType,bottomLeftOrigin)\n",
    "img_text = cv2.putText(image,text,org,font,fontScale,color,thickness,lineType,bottomLeftOrigin=False)\n",
    "cv2.imshow('Text Image',img_text)\n",
    "cv2.waitKey(0)\n",
    "cv2.destroyAllWindows()"
   ]
  },
  {
   "cell_type": "code",
   "execution_count": null,
   "id": "a26068ee",
   "metadata": {},
   "outputs": [],
   "source": []
  }
 ],
 "metadata": {
  "kernelspec": {
   "display_name": "Python 3 (ipykernel)",
   "language": "python",
   "name": "python3"
  },
  "language_info": {
   "codemirror_mode": {
    "name": "ipython",
    "version": 3
   },
   "file_extension": ".py",
   "mimetype": "text/x-python",
   "name": "python",
   "nbconvert_exporter": "python",
   "pygments_lexer": "ipython3",
   "version": "3.8.0"
  }
 },
 "nbformat": 4,
 "nbformat_minor": 5
}
