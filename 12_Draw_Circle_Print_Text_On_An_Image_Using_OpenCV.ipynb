{
 "cells": [
  {
   "cell_type": "code",
   "execution_count": 1,
   "id": "ea0dd616",
   "metadata": {},
   "outputs": [],
   "source": [
    "import cv2\n",
    "import numpy as np\n",
    "import os"
   ]
  },
  {
   "cell_type": "code",
   "execution_count": 2,
   "id": "fadedcc6",
   "metadata": {},
   "outputs": [
    {
     "data": {
      "text/plain": [
       "['1.jpg', '2.jpg', '3.jpg', '4.jpg', '5.jpg']"
      ]
     },
     "execution_count": 2,
     "metadata": {},
     "output_type": "execute_result"
    }
   ],
   "source": [
    "os.listdir('Data/Image/')"
   ]
  },
  {
   "cell_type": "code",
   "execution_count": 3,
   "id": "134a1aaa",
   "metadata": {},
   "outputs": [],
   "source": [
    "img_path = 'Data/Image/1.jpg'\n",
    "img = cv2.imread(img_path)\n",
    "img_resize = cv2.resize(img,(1280,720))\n",
    "cv2.imshow('Aakash',img_resize)\n",
    "cv2.waitKey(0)\n",
    "cv2.destroyAllWindows()"
   ]
  },
  {
   "cell_type": "markdown",
   "id": "2d47f106",
   "metadata": {},
   "source": [
    "# Draw Circle on Image"
   ]
  },
  {
   "cell_type": "code",
   "execution_count": 17,
   "id": "6c575344",
   "metadata": {},
   "outputs": [],
   "source": [
    "img_path = 'Data/Image/1.jpg'\n",
    "img = cv2.imread(img_path)\n",
    "img_resize = cv2.resize(img,(1280,720))\n",
    "center = (790,350)\n",
    "radius = 90\n",
    "color = (23,220,75) #(B,G,R)\n",
    "thickness = 3\n",
    "lineType = cv2.LINE_8\n",
    "shift = 0\n",
    "# circle(img, center, radius, color[, thickness[, lineType[, shift]]])\n",
    "circle_img = cv2.circle(img_resize,center,radius,color,thickness,lineType,shift)\n",
    "cv2.imshow('Aakash',circle_img)\n",
    "cv2.waitKey(0)\n",
    "cv2.destroyAllWindows()"
   ]
  },
  {
   "cell_type": "markdown",
   "id": "3a0410f6",
   "metadata": {},
   "source": [
    "# Fill Circle on image"
   ]
  },
  {
   "cell_type": "code",
   "execution_count": 21,
   "id": "048933de",
   "metadata": {},
   "outputs": [],
   "source": [
    "img_path = 'Data/Image/1.jpg'\n",
    "img = cv2.imread(img_path)\n",
    "img_resize = cv2.resize(img,(1280,720))\n",
    "center = (790,350)\n",
    "radius = 90\n",
    "color = (23,220,75) #(B,G,R)\n",
    "thickness = -1 # circle will filled\n",
    "lineType = cv2.LINE_8\n",
    "shift = 0\n",
    "# circle(img, center, radius, color[, thickness[, lineType[, shift]]])\n",
    "circle_img = cv2.circle(img_resize,center,radius,color,thickness,lineType,shift)\n",
    "cv2.imshow('Aakash',circle_img)\n",
    "cv2.waitKey(0)\n",
    "cv2.destroyAllWindows()"
   ]
  },
  {
   "cell_type": "markdown",
   "id": "3f65bf71",
   "metadata": {},
   "source": [
    "# Draw 2 Circles"
   ]
  },
  {
   "cell_type": "code",
   "execution_count": 28,
   "id": "e07f8855",
   "metadata": {},
   "outputs": [],
   "source": [
    "img_path = 'Data/Image/1.jpg'\n",
    "img = cv2.imread(img_path)\n",
    "img_resize = cv2.resize(img,(1280,720))\n",
    "center = (790,350)\n",
    "radius = 90\n",
    "color = (23,220,75) #(B,G,R)\n",
    "thickness = 3 # circle will filled\n",
    "lineType = cv2.LINE_8\n",
    "shift = 0\n",
    "# circle(img, center, radius, color[, thickness[, lineType[, shift]]])\n",
    "circle_img = cv2.circle(img_resize,center,radius,color,thickness,lineType,shift)\n",
    "center2 = (1080,350)\n",
    "radius2 = 80\n",
    "color2 = (0,229,23)\n",
    "thickness2 = 2\n",
    "circle_img = cv2.circle(circle_img,center2,radius2,color2,thickness2,lineType,shift)\n",
    "cv2.imshow('Aakash',circle_img)\n",
    "cv2.waitKey(0)\n",
    "cv2.destroyAllWindows()"
   ]
  },
  {
   "cell_type": "markdown",
   "id": "e3fa21ba",
   "metadata": {},
   "source": [
    "# Draw Multiple Circles & Text"
   ]
  },
  {
   "cell_type": "code",
   "execution_count": 29,
   "id": "0714f575",
   "metadata": {},
   "outputs": [],
   "source": [
    "img_path = 'Data/Image/1.jpg'\n",
    "img = cv2.imread(img_path)\n",
    "img_resize = cv2.resize(img,(1280,720))\n",
    "center = (790,350)\n",
    "radius = 90\n",
    "color = (23,220,75) #(B,G,R)\n",
    "thickness = 3 # circle will filled\n",
    "lineType = cv2.LINE_8\n",
    "shift = 0\n",
    "# circle(img, center, radius, color[, thickness[, lineType[, shift]]])\n",
    "circle_img = cv2.circle(img_resize,center,radius,color,thickness,lineType,shift)\n",
    "center2 = (1080,350)\n",
    "radius2 = 80\n",
    "color2 = (0,229,23)\n",
    "thickness2 = 2\n",
    "circle_img = cv2.circle(circle_img,center2,radius2,color2,thickness2,lineType,shift)\n",
    "text = 'Aakash Singh'\n",
    "# putText(img, text, org, fontFace, fontScale, color[, thickness[, lineType[, bottomLeftOrigin]]])\n",
    "text_img = cv2.putText(circle_img,text,(790,350),cv2.FONT_HERSHEY_COMPLEX_SMALL,3,(0,255,0),3)\n",
    "cv2.imshow('Aakash',text_img)\n",
    "cv2.waitKey(0)\n",
    "cv2.destroyAllWindows()"
   ]
  },
  {
   "cell_type": "code",
   "execution_count": null,
   "id": "c1bcd974",
   "metadata": {},
   "outputs": [],
   "source": []
  }
 ],
 "metadata": {
  "kernelspec": {
   "display_name": "Python 3 (ipykernel)",
   "language": "python",
   "name": "python3"
  },
  "language_info": {
   "codemirror_mode": {
    "name": "ipython",
    "version": 3
   },
   "file_extension": ".py",
   "mimetype": "text/x-python",
   "name": "python",
   "nbconvert_exporter": "python",
   "pygments_lexer": "ipython3",
   "version": "3.8.0"
  }
 },
 "nbformat": 4,
 "nbformat_minor": 5
}
