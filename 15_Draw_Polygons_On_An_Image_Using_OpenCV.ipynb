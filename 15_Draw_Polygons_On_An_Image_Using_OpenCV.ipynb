{
 "cells": [
  {
   "cell_type": "code",
   "execution_count": 1,
   "id": "2898e3f5",
   "metadata": {},
   "outputs": [],
   "source": [
    "import cv2\n",
    "import numpy as np\n",
    "import os"
   ]
  },
  {
   "cell_type": "code",
   "execution_count": 2,
   "id": "582f5600",
   "metadata": {},
   "outputs": [
    {
     "data": {
      "text/plain": [
       "['1.jpg', '2.jpg', '3.jpg', '4.jpg', '5.jpg']"
      ]
     },
     "execution_count": 2,
     "metadata": {},
     "output_type": "execute_result"
    }
   ],
   "source": [
    "os.listdir('Data/Image/')"
   ]
  },
  {
   "cell_type": "code",
   "execution_count": 4,
   "id": "d55c965e",
   "metadata": {},
   "outputs": [],
   "source": [
    "img_path = 'Data/Image/1.jpg'\n",
    "img = cv2.imread(img_path)\n",
    "img_size = cv2.resize(img,(1280,720))\n",
    "pts = np.array([[12,45],[34,56],[23,76],[67,98],[93,56]])\n",
    "isClosed = True\n",
    "color = (34,65,200)\n",
    "thickness = 3\n",
    "# polylines(img, pts, isClosed, color[, thickness[, lineType[, shift]]]) -> img\n",
    "img_poly = cv2.polylines(img_size,[pts],isClosed,color,thickness)\n",
    "cv2.imshow('polygon',img_poly)\n",
    "cv2.waitKey(0)\n",
    "cv2.destroyAllWindows()"
   ]
  },
  {
   "cell_type": "markdown",
   "id": "b541de0b",
   "metadata": {},
   "source": [
    "# Draw PolyGon"
   ]
  },
  {
   "cell_type": "code",
   "execution_count": 6,
   "id": "c49179f7",
   "metadata": {},
   "outputs": [],
   "source": [
    "img_path = 'Data/Image/1.jpg'\n",
    "img = cv2.imread(img_path)\n",
    "img_size = cv2.resize(img,(1280,720))\n",
    "pts = np.array([[25,70],[25,145],\n",
    "               [75,190],[150,190],\n",
    "               [200,145],[200,70],\n",
    "               [150,25],[75,25]],\n",
    "              np.int32)\n",
    "isClosed = True\n",
    "color = (34,65,200)\n",
    "thickness = 3\n",
    "# polylines(img, pts, isClosed, color[, thickness[, lineType[, shift]]]) -> img\n",
    "img_poly = cv2.polylines(img_size,[pts],isClosed,color,thickness)\n",
    "cv2.imshow('polygon',img_poly)\n",
    "cv2.waitKey(0)\n",
    "cv2.destroyAllWindows()"
   ]
  },
  {
   "cell_type": "code",
   "execution_count": 8,
   "id": "73293607",
   "metadata": {},
   "outputs": [],
   "source": [
    "img_path = 'Data/Image/1.jpg'\n",
    "img = cv2.imread(img_path)\n",
    "img_size = cv2.resize(img,(1280,720))\n",
    "pts = np.array([[25,70],[25,145],\n",
    "               [75,190],[150,190],\n",
    "               [200,145],[200,70]],\n",
    "              np.int32)\n",
    "isClosed = True\n",
    "color = (34,65,200)\n",
    "thickness = 3\n",
    "# polylines(img, pts, isClosed, color[, thickness[, lineType[, shift]]]) -> img\n",
    "img_poly = cv2.polylines(img_size,[pts],isClosed,color,thickness)\n",
    "cv2.imshow('polygon',img_poly)\n",
    "cv2.waitKey(0)\n",
    "cv2.destroyAllWindows()"
   ]
  },
  {
   "cell_type": "code",
   "execution_count": null,
   "id": "007d29d4",
   "metadata": {},
   "outputs": [],
   "source": []
  }
 ],
 "metadata": {
  "kernelspec": {
   "display_name": "Python 3 (ipykernel)",
   "language": "python",
   "name": "python3"
  },
  "language_info": {
   "codemirror_mode": {
    "name": "ipython",
    "version": 3
   },
   "file_extension": ".py",
   "mimetype": "text/x-python",
   "name": "python",
   "nbconvert_exporter": "python",
   "pygments_lexer": "ipython3",
   "version": "3.8.0"
  }
 },
 "nbformat": 4,
 "nbformat_minor": 5
}
