{
 "cells": [
  {
   "cell_type": "markdown",
   "id": "8447011c",
   "metadata": {},
   "source": [
    "# Convert RGB(color) image into Blue, Green, Red"
   ]
  },
  {
   "cell_type": "code",
   "execution_count": 1,
   "id": "81a2c1a8",
   "metadata": {},
   "outputs": [],
   "source": [
    "import cv2\n",
    "import numpy as np\n",
    "import os"
   ]
  },
  {
   "cell_type": "code",
   "execution_count": 2,
   "id": "73d544d0",
   "metadata": {},
   "outputs": [
    {
     "data": {
      "text/plain": [
       "['1.jpg', '2.jpg', '3.jpg', '4.jpg', '5.jpg']"
      ]
     },
     "execution_count": 2,
     "metadata": {},
     "output_type": "execute_result"
    }
   ],
   "source": [
    "os.listdir('Data/Image/')"
   ]
  },
  {
   "cell_type": "code",
   "execution_count": 3,
   "id": "e11af0a2",
   "metadata": {},
   "outputs": [],
   "source": [
    "img_path = 'Data/Image/1.jpg'\n",
    "img = cv2.imread(img_path)\n",
    "img_size = cv2.resize(img,(1280,720))\n",
    "cv2.imshow('aakash',img_size)\n",
    "cv2.waitKey(0)\n",
    "cv2.destroyAllWindows()"
   ]
  },
  {
   "cell_type": "code",
   "execution_count": 4,
   "id": "494d6a7f",
   "metadata": {},
   "outputs": [
    {
     "data": {
      "text/plain": [
       "(720, 1280, 3)"
      ]
     },
     "execution_count": 4,
     "metadata": {},
     "output_type": "execute_result"
    }
   ],
   "source": [
    "img_size.shape #BGR"
   ]
  },
  {
   "cell_type": "markdown",
   "id": "a37edbcd",
   "metadata": {},
   "source": [
    "# Blue Image"
   ]
  },
  {
   "cell_type": "code",
   "execution_count": 5,
   "id": "711b824c",
   "metadata": {},
   "outputs": [
    {
     "data": {
      "text/plain": [
       "(720, 1280)"
      ]
     },
     "execution_count": 5,
     "metadata": {},
     "output_type": "execute_result"
    }
   ],
   "source": [
    "b,g,r = cv2.split(img_size)\n",
    "b.shape"
   ]
  },
  {
   "cell_type": "code",
   "execution_count": 7,
   "id": "f9e38a19",
   "metadata": {},
   "outputs": [],
   "source": [
    "zero_ch = np.zeros(img_size.shape[0:2],dtype=\"uint8\")\n",
    "blue_img = cv2.merge([b,zero_ch,zero_ch])\n",
    "cv2.imshow('Blue',blue_img)\n",
    "cv2.waitKey(0)\n",
    "cv2.destroyAllWindows()"
   ]
  },
  {
   "cell_type": "code",
   "execution_count": 6,
   "id": "4e51bdf0",
   "metadata": {},
   "outputs": [
    {
     "name": "stdout",
     "output_type": "stream",
     "text": [
      "(720, 1280)\n"
     ]
    }
   ],
   "source": [
    "print(img_size.shape[0:2])"
   ]
  },
  {
   "cell_type": "markdown",
   "id": "74284c76",
   "metadata": {},
   "source": [
    "# Green Image"
   ]
  },
  {
   "cell_type": "code",
   "execution_count": 8,
   "id": "a03d7405",
   "metadata": {},
   "outputs": [],
   "source": [
    "zero_ch = np.zeros(img_size.shape[0:2],dtype=\"uint8\")\n",
    "green_img = cv2.merge([zero_ch,g,zero_ch])\n",
    "cv2.imshow('Green',green_img)\n",
    "cv2.waitKey(0)\n",
    "cv2.destroyAllWindows()"
   ]
  },
  {
   "cell_type": "markdown",
   "id": "203b41d3",
   "metadata": {},
   "source": [
    "# Red Image"
   ]
  },
  {
   "cell_type": "code",
   "execution_count": 9,
   "id": "18a9ae8f",
   "metadata": {},
   "outputs": [],
   "source": [
    "zero_ch = np.zeros(img_size.shape[0:2],dtype=\"uint8\")\n",
    "red_img = cv2.merge([zero_ch,zero_ch,r])\n",
    "cv2.imshow('Red',red_img)\n",
    "cv2.waitKey(0)\n",
    "cv2.destroyAllWindows()"
   ]
  },
  {
   "cell_type": "markdown",
   "id": "88daf9bd",
   "metadata": {},
   "source": [
    "# Show Image using index spliting and 4 image in one Window"
   ]
  },
  {
   "cell_type": "code",
   "execution_count": 11,
   "id": "e193cbf8",
   "metadata": {},
   "outputs": [],
   "source": [
    "img_path = 'Data/Image/1.jpg'\n",
    "img = cv2.imread(img_path)\n",
    "red_array = np.zeros(img.shape,dtype=\"uint8\")\n",
    "red_array[:,:,2] = img[:,:,2]\n",
    "\n",
    "green_array = np.zeros(img.shape,dtype=\"uint8\")\n",
    "green_array[:,:,1] = img[:,:,1]\n",
    "\n",
    "blue_array = np.zeros(img.shape,dtype=\"uint8\")\n",
    "blue_array[:,:,0] = img[:,:,0]\n",
    "\n",
    "ht1 = np.hstack((red_array,green_array))\n",
    "ht2 = np.hstack((blue_array,img))\n",
    "ht4 = np.vstack((ht1,ht2))\n",
    "\n",
    "cv2.imshow(\"4 Image\",ht4)\n",
    "cv2.waitKey(0)\n",
    "cv2.destroyAllWindows()"
   ]
  },
  {
   "cell_type": "code",
   "execution_count": null,
   "id": "87eeeb54",
   "metadata": {},
   "outputs": [],
   "source": []
  }
 ],
 "metadata": {
  "kernelspec": {
   "display_name": "Python 3 (ipykernel)",
   "language": "python",
   "name": "python3"
  },
  "language_info": {
   "codemirror_mode": {
    "name": "ipython",
    "version": 3
   },
   "file_extension": ".py",
   "mimetype": "text/x-python",
   "name": "python",
   "nbconvert_exporter": "python",
   "pygments_lexer": "ipython3",
   "version": "3.8.0"
  }
 },
 "nbformat": 4,
 "nbformat_minor": 5
}
