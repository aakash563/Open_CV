{
 "cells": [
  {
   "cell_type": "markdown",
   "id": "d354273b",
   "metadata": {},
   "source": [
    "# Agenda\n",
    "* Create Jupyter Notebook File(.ipynb)\n",
    "* How to show Image?\n",
    "* Resize image\n",
    "* Slide Show\n",
    "* 4 Image in one window\n",
    "* Multiple images in one winddow "
   ]
  },
  {
   "cell_type": "code",
   "execution_count": 1,
   "id": "95b30c64",
   "metadata": {},
   "outputs": [],
   "source": [
    "import cv2\n",
    "import os"
   ]
  },
  {
   "cell_type": "code",
   "execution_count": 2,
   "id": "7044b567",
   "metadata": {},
   "outputs": [],
   "source": [
    "path_I = 'Data/Image'"
   ]
  },
  {
   "cell_type": "code",
   "execution_count": 3,
   "id": "8ee5aca0",
   "metadata": {},
   "outputs": [
    {
     "data": {
      "text/plain": [
       "['1.jpg', '2.jpg', '3.jpg', '4.jpg', '5.jpg']"
      ]
     },
     "execution_count": 3,
     "metadata": {},
     "output_type": "execute_result"
    }
   ],
   "source": [
    "os.listdir(path_I)"
   ]
  },
  {
   "cell_type": "code",
   "execution_count": 4,
   "id": "f64d34d9",
   "metadata": {},
   "outputs": [],
   "source": [
    "img = cv2.imread(path_I + '/' + '1.jpg')"
   ]
  },
  {
   "cell_type": "code",
   "execution_count": 6,
   "id": "89bb3bfd",
   "metadata": {},
   "outputs": [],
   "source": [
    "cv2.imshow('Image',img)\n",
    "cv2.waitKey(1)\n",
    "cv2.destroyAllWindows()"
   ]
  },
  {
   "cell_type": "code",
   "execution_count": 7,
   "id": "12a8cc80",
   "metadata": {},
   "outputs": [],
   "source": [
    "img = cv2.imread(path_I + '/' + '1.jpg')\n",
    "img = cv2.resize(img,(600,400))\n",
    "cv2.imshow('Image',img)\n",
    "cv2.waitKey(0)\n",
    "cv2.destroyAllWindows()"
   ]
  },
  {
   "cell_type": "code",
   "execution_count": 8,
   "id": "3e7a4ab7",
   "metadata": {},
   "outputs": [
    {
     "data": {
      "text/plain": [
       "['1.jpg', '2.jpg', '3.jpg', '4.jpg', '5.jpg']"
      ]
     },
     "execution_count": 8,
     "metadata": {},
     "output_type": "execute_result"
    }
   ],
   "source": [
    "img_names = os.listdir(path_I)\n",
    "img_names"
   ]
  },
  {
   "cell_type": "code",
   "execution_count": 9,
   "id": "1f75b97b",
   "metadata": {},
   "outputs": [],
   "source": [
    "path_I\n",
    "for img_name in img_names:\n",
    "    img_path_full = path_I + '/' + img_name\n",
    "    img = cv2.imread(img_path_full)\n",
    "    img = cv2.resize(img,(600,400))\n",
    "    cv2.imshow(img_path_full,img)\n",
    "    cv2.waitKey(0)\n",
    "cv2.destroyAllWindows()"
   ]
  },
  {
   "cell_type": "code",
   "execution_count": 10,
   "id": "e11d181d",
   "metadata": {},
   "outputs": [],
   "source": [
    "import numpy as np"
   ]
  },
  {
   "cell_type": "code",
   "execution_count": 15,
   "id": "c9528319",
   "metadata": {},
   "outputs": [],
   "source": [
    "img_names = os.listdir(path_I)\n",
    "for img in img_names:\n",
    "    img_full_path = path_I + '/'+img\n",
    "    img = cv2.imread(img_full_path)\n",
    "    img_2 = np.hstack((img,img))\n",
    "    img_4 = np.vstack((img_2,img_2))\n",
    "    cv2.imshow(img_full_path,img_4)\n",
    "    cv2.waitKey(1000)\n",
    "cv2.destroyAllWindows()"
   ]
  },
  {
   "cell_type": "code",
   "execution_count": 18,
   "id": "1eb82ba2",
   "metadata": {},
   "outputs": [],
   "source": [
    "img_names = os.listdir(path_I)\n",
    "for img in img_names:\n",
    "    img_full_path = path_I + '/'+img\n",
    "    img = cv2.imread(img_full_path)\n",
    "    img_2 = np.hstack((img,img,img))\n",
    "    img_4 = np.vstack((img_2,img_2))\n",
    "    cv2.imshow(img_full_path,img_4)\n",
    "    cv2.waitKey(1000)\n",
    "cv2.destroyAllWindows()"
   ]
  },
  {
   "cell_type": "code",
   "execution_count": null,
   "id": "31af01c6",
   "metadata": {},
   "outputs": [],
   "source": []
  }
 ],
 "metadata": {
  "kernelspec": {
   "display_name": "Python 3 (ipykernel)",
   "language": "python",
   "name": "python3"
  },
  "language_info": {
   "codemirror_mode": {
    "name": "ipython",
    "version": 3
   },
   "file_extension": ".py",
   "mimetype": "text/x-python",
   "name": "python",
   "nbconvert_exporter": "python",
   "pygments_lexer": "ipython3",
   "version": "3.8.0"
  }
 },
 "nbformat": 4,
 "nbformat_minor": 5
}
