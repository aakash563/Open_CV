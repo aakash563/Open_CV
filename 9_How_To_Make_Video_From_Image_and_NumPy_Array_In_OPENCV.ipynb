{
 "cells": [
  {
   "cell_type": "markdown",
   "id": "93b6d510",
   "metadata": {},
   "source": [
    "# Create video From Numpy Array and image"
   ]
  },
  {
   "cell_type": "markdown",
   "id": "62c8c9a4",
   "metadata": {},
   "source": [
    "# Video From Numpy Array"
   ]
  },
  {
   "cell_type": "code",
   "execution_count": 2,
   "id": "d1528eeb",
   "metadata": {},
   "outputs": [],
   "source": [
    "import numpy as np\n",
    "import os\n",
    "import cv2"
   ]
  },
  {
   "cell_type": "code",
   "execution_count": 5,
   "id": "5b9ae60b",
   "metadata": {},
   "outputs": [],
   "source": [
    "width = 1280\n",
    "height = 720\n",
    "channel = 3\n",
    "fps = 30\n",
    "sec = 5"
   ]
  },
  {
   "cell_type": "code",
   "execution_count": 8,
   "id": "e87a569d",
   "metadata": {},
   "outputs": [],
   "source": [
    "fourcc = cv2.VideoWriter_fourcc(*'MP42')\n",
    "video = cv2.VideoWriter('Data/test.mp4',fourcc,float(fps),(width,height))\n",
    "for frame_count in range(fps*sec):\n",
    "    img = np.random.randint(0,255,(height,width,channel),dtype = np.uint8)\n",
    "    video.write(img)\n",
    "video.release()"
   ]
  },
  {
   "cell_type": "markdown",
   "id": "f12418aa",
   "metadata": {},
   "source": [
    "# Video From Image"
   ]
  },
  {
   "cell_type": "code",
   "execution_count": 13,
   "id": "d474cf2f",
   "metadata": {},
   "outputs": [],
   "source": [
    "width = 1280\n",
    "height = 720\n",
    "channel = 3\n",
    "fps = 5\n",
    "sec = 5"
   ]
  },
  {
   "cell_type": "code",
   "execution_count": 14,
   "id": "38ae4ab8",
   "metadata": {},
   "outputs": [],
   "source": [
    "fourcc = cv2.VideoWriter_fourcc(*'MP42')\n",
    "video = cv2.VideoWriter('Data/aakash.mp4',fourcc,float(fps),(width,height))\n",
    "\n",
    "directory = r'Data/Image/'\n",
    "img_name_list = os.listdir(directory)\n",
    "for frame_count in range(fps*sec):\n",
    "    img_name = np.random.choice(img_name_list)\n",
    "    img_path = os.path.join(directory,img_name)\n",
    "    img = cv2.imread(img_path)\n",
    "    img = cv2.resize(img,(width,height))\n",
    "    video.write(img)\n",
    "video.release()"
   ]
  },
  {
   "cell_type": "code",
   "execution_count": null,
   "id": "eb78150b",
   "metadata": {},
   "outputs": [],
   "source": []
  }
 ],
 "metadata": {
  "kernelspec": {
   "display_name": "Python 3 (ipykernel)",
   "language": "python",
   "name": "python3"
  },
  "language_info": {
   "codemirror_mode": {
    "name": "ipython",
    "version": 3
   },
   "file_extension": ".py",
   "mimetype": "text/x-python",
   "name": "python",
   "nbconvert_exporter": "python",
   "pygments_lexer": "ipython3",
   "version": "3.8.0"
  }
 },
 "nbformat": 4,
 "nbformat_minor": 5
}
