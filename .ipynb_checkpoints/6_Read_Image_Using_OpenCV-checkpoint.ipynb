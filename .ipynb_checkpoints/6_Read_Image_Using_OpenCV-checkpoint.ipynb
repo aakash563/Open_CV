{
 "cells": [
  {
   "cell_type": "markdown",
   "id": "5ec7aba9",
   "metadata": {},
   "source": [
    "# How Read Image Using OpenCV"
   ]
  },
  {
   "cell_type": "markdown",
   "id": "9e3b7b4a",
   "metadata": {},
   "source": [
    "# Syntax: cv2.imread(path,flag)\n",
    "* path = Image_path\n",
    "* flag = default value is cv2.IMREAD_COLOR\n",
    "* cv2.IMREAD_COLOR or 1:\n",
    "    * read the image with RGB colors\n",
    "* cv2.IMREAD_GRAYSCALE or 0:\n",
    "    * read the image with gray colors\n",
    "* cv2.IMREAD_UNCHANGED or -1:\n",
    "    * it reads the image as is from the source\n",
    "    * If the source us an RGB, \n",
    "    * It loads the image into array with Red, Green, and Blue Channel\n",
    "    * If Source image is ARGB, \n",
    "    * It loads the image with three color componenets along witb the alpha or transparency"
   ]
  },
  {
   "cell_type": "code",
   "execution_count": 3,
   "id": "ee2bd777",
   "metadata": {},
   "outputs": [],
   "source": [
    "import numpy as np\n",
    "import cv2\n",
    "import os"
   ]
  },
  {
   "cell_type": "code",
   "execution_count": 4,
   "id": "1d7ada32",
   "metadata": {},
   "outputs": [
    {
     "data": {
      "text/plain": [
       "['1.jpg', '2.jpg', '3.jpg', '4.jpg', '5.jpg']"
      ]
     },
     "execution_count": 4,
     "metadata": {},
     "output_type": "execute_result"
    }
   ],
   "source": [
    "path = 'Data/Image/'\n",
    "os.listdir(path)"
   ]
  },
  {
   "cell_type": "code",
   "execution_count": 7,
   "id": "8a760c7b",
   "metadata": {},
   "outputs": [
    {
     "name": "stdout",
     "output_type": "stream",
     "text": [
      "(434, 578, 3)\n"
     ]
    }
   ],
   "source": [
    "img_path = path + '/' + '1.jpg'\n",
    "img = cv2.imread(img_path)\n",
    "print(img.shape)"
   ]
  },
  {
   "cell_type": "code",
   "execution_count": 8,
   "id": "5f71198b",
   "metadata": {},
   "outputs": [],
   "source": [
    "cv2.imshow('img',img)\n",
    "cv2.waitKey(0)\n",
    "cv2.destroyAllWindows()"
   ]
  },
  {
   "cell_type": "code",
   "execution_count": 11,
   "id": "3d03e813",
   "metadata": {},
   "outputs": [
    {
     "name": "stdout",
     "output_type": "stream",
     "text": [
      "(434, 578, 3)\n"
     ]
    }
   ],
   "source": [
    "img_path = path + '/' + '1.jpg'\n",
    "img = cv2.imread(img_path,cv2.IMREAD_COLOR)\n",
    "print(img.shape)\n",
    "cv2.imshow('img',img)\n",
    "cv2.waitKey(0)\n",
    "cv2.destroyAllWindows()"
   ]
  },
  {
   "cell_type": "code",
   "execution_count": 12,
   "id": "b4e08e6e",
   "metadata": {},
   "outputs": [
    {
     "name": "stdout",
     "output_type": "stream",
     "text": [
      "(434, 578)\n"
     ]
    }
   ],
   "source": [
    "img_path = path + '/' + '1.jpg'\n",
    "img = cv2.imread(img_path,cv2.IMREAD_GRAYSCALE)\n",
    "print(img.shape)\n",
    "cv2.imshow('img',img)\n",
    "cv2.waitKey(0)\n",
    "cv2.destroyAllWindows()"
   ]
  },
  {
   "cell_type": "code",
   "execution_count": 13,
   "id": "3767856c",
   "metadata": {},
   "outputs": [
    {
     "name": "stdout",
     "output_type": "stream",
     "text": [
      "(434, 578, 3)\n"
     ]
    }
   ],
   "source": [
    "img_path = path + '/' + '1.jpg'\n",
    "img = cv2.imread(img_path,-1)\n",
    "print(img.shape)\n",
    "cv2.imshow('img',img)\n",
    "cv2.waitKey(0)\n",
    "cv2.destroyAllWindows()"
   ]
  },
  {
   "cell_type": "code",
   "execution_count": null,
   "id": "258161e8",
   "metadata": {},
   "outputs": [],
   "source": []
  }
 ],
 "metadata": {
  "kernelspec": {
   "display_name": "Python 3 (ipykernel)",
   "language": "python",
   "name": "python3"
  },
  "language_info": {
   "codemirror_mode": {
    "name": "ipython",
    "version": 3
   },
   "file_extension": ".py",
   "mimetype": "text/x-python",
   "name": "python",
   "nbconvert_exporter": "python",
   "pygments_lexer": "ipython3",
   "version": "3.8.0"
  }
 },
 "nbformat": 4,
 "nbformat_minor": 5
}
