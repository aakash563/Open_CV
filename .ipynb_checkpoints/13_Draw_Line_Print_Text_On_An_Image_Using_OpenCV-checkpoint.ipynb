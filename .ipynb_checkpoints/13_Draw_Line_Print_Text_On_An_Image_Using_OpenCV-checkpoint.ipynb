{
 "cells": [
  {
   "cell_type": "code",
   "execution_count": 1,
   "id": "258d508e",
   "metadata": {},
   "outputs": [],
   "source": [
    "import cv2\n",
    "import numpy as np\n",
    "import os"
   ]
  },
  {
   "cell_type": "code",
   "execution_count": 2,
   "id": "a1478693",
   "metadata": {},
   "outputs": [
    {
     "data": {
      "text/plain": [
       "['1.jpg', '2.jpg', '3.jpg', '4.jpg', '5.jpg']"
      ]
     },
     "execution_count": 2,
     "metadata": {},
     "output_type": "execute_result"
    }
   ],
   "source": [
    "os.listdir('Data/Image/')"
   ]
  },
  {
   "cell_type": "code",
   "execution_count": 4,
   "id": "f0a71919",
   "metadata": {},
   "outputs": [],
   "source": [
    "img_path = 'Data/Image/1.jpg'\n",
    "img = cv2.imread(img_path)\n",
    "img_resize = cv2.resize(img,(1280,720))\n",
    "cv2.imshow('aakash',img_resize)\n",
    "cv2.waitKey(0)\n",
    "cv2.destroyAllWindows()"
   ]
  },
  {
   "cell_type": "markdown",
   "id": "9afd2386",
   "metadata": {},
   "source": [
    "# Line On Image"
   ]
  },
  {
   "cell_type": "code",
   "execution_count": 12,
   "id": "6c791a25",
   "metadata": {},
   "outputs": [],
   "source": [
    "img_path = 'Data/Image/1.jpg'\n",
    "img = cv2.imread(img_path)\n",
    "img_resize = cv2.resize(img,(1280,720))\n",
    "pt1 = (700,290)\n",
    "pt2 = (900,290)\n",
    "color = (0,255,0)\n",
    "thickness = 20\n",
    "lineType = cv2.LINE_8\n",
    "shift = 0\n",
    "# line(img, pt1, pt2, color[, thickness[, lineType[, shift]]])\n",
    "img_resize = cv2.line(img_resize,pt1,pt2,color,thickness,lineType,shift)\n",
    "cv2.imshow('aakash',img_resize)\n",
    "cv2.waitKey(0)\n",
    "cv2.destroyAllWindows()"
   ]
  },
  {
   "cell_type": "markdown",
   "id": "efe5166d",
   "metadata": {},
   "source": [
    "# Draw Multiple Line On image"
   ]
  },
  {
   "cell_type": "code",
   "execution_count": 15,
   "id": "a3f9474b",
   "metadata": {},
   "outputs": [],
   "source": [
    "img_path = 'Data/Image/1.jpg'\n",
    "img = cv2.imread(img_path)\n",
    "img_resize = cv2.resize(img,(1280,720))\n",
    "pt1 = (700,290)\n",
    "pt2 = (900,290)\n",
    "color = (0,255,0)\n",
    "thickness = 20\n",
    "lineType = cv2.LINE_8\n",
    "shift = 0\n",
    "# line(img, pt1, pt2, color[, thickness[, lineType[, shift]]])\n",
    "img_resize = cv2.line(img_resize,pt1,pt2,color,thickness,lineType,shift)\n",
    "img_resize = cv2.line(img_resize,pt1,pt2,(255,0,0),5,lineType,shift)\n",
    "cv2.imshow('aakash',img_resize)\n",
    "cv2.waitKey(0)\n",
    "cv2.destroyAllWindows()"
   ]
  },
  {
   "cell_type": "markdown",
   "id": "0f97cf75",
   "metadata": {},
   "source": [
    "# Line and Text on Image"
   ]
  },
  {
   "cell_type": "code",
   "execution_count": 21,
   "id": "1e835a1f",
   "metadata": {},
   "outputs": [],
   "source": [
    "img_path = 'Data/Image/1.jpg'\n",
    "img = cv2.imread(img_path)\n",
    "img_resize = cv2.resize(img,(1280,720))\n",
    "pt1 = (700,290)\n",
    "pt2 = (900,290)\n",
    "color = (0,255,0)\n",
    "thickness = 30\n",
    "lineType = cv2.LINE_8\n",
    "shift = 0\n",
    "# line(img, pt1, pt2, color[, thickness[, lineType[, shift]]])\n",
    "img_resize = cv2.line(img_resize,pt1,pt2,color,thickness,lineType,shift)\n",
    "# putText(img, text, org, fontFace, fontScale, color[, thickness[, lineType[, bottomLeftOrigin]]]) -> img\n",
    "cv2.putText(img_resize,\"Aakash\",(720,250),cv2.FONT_HERSHEY_COMPLEX_SMALL,2,(34,200,200),3)\n",
    "cv2.imshow('aakash',img_resize)\n",
    "cv2.waitKey(0)\n",
    "cv2.destroyAllWindows()"
   ]
  },
  {
   "cell_type": "code",
   "execution_count": null,
   "id": "16b6732e",
   "metadata": {},
   "outputs": [],
   "source": []
  }
 ],
 "metadata": {
  "kernelspec": {
   "display_name": "Python 3 (ipykernel)",
   "language": "python",
   "name": "python3"
  },
  "language_info": {
   "codemirror_mode": {
    "name": "ipython",
    "version": 3
   },
   "file_extension": ".py",
   "mimetype": "text/x-python",
   "name": "python",
   "nbconvert_exporter": "python",
   "pygments_lexer": "ipython3",
   "version": "3.8.0"
  }
 },
 "nbformat": 4,
 "nbformat_minor": 5
}
