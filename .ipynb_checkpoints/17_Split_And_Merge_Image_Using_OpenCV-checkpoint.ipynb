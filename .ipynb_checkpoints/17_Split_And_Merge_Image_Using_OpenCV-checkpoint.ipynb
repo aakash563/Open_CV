{
 "cells": [
  {
   "cell_type": "markdown",
   "id": "b3e6d14d",
   "metadata": {},
   "source": [
    "# How to split Image in single channel & Merge multiple Single Channel"
   ]
  },
  {
   "cell_type": "code",
   "execution_count": 1,
   "id": "0acbdfe2",
   "metadata": {},
   "outputs": [],
   "source": [
    "import cv2\n",
    "import os\n",
    "import numpy as np"
   ]
  },
  {
   "cell_type": "code",
   "execution_count": 2,
   "id": "b2e160d7",
   "metadata": {},
   "outputs": [
    {
     "data": {
      "text/plain": [
       "['1.jpg', '2.jpg', '3.jpg', '4.jpg', '5.jpg']"
      ]
     },
     "execution_count": 2,
     "metadata": {},
     "output_type": "execute_result"
    }
   ],
   "source": [
    "os.listdir('Data/Image/')"
   ]
  },
  {
   "cell_type": "markdown",
   "id": "b67d8574",
   "metadata": {},
   "source": [
    "# Show Image"
   ]
  },
  {
   "cell_type": "code",
   "execution_count": 3,
   "id": "ce97570c",
   "metadata": {},
   "outputs": [],
   "source": [
    "img_path = 'Data/Image/1.jpg'\n",
    "img = cv2.imread(img_path)\n",
    "img_size = cv2.resize(img,(1280,720))\n",
    "cv2.imshow('aakash',img_size)\n",
    "cv2.waitKey(0)\n",
    "cv2.destroyAllWindows()"
   ]
  },
  {
   "cell_type": "markdown",
   "id": "c5f4008d",
   "metadata": {},
   "source": [
    "# Split Image Using NumPy indexing"
   ]
  },
  {
   "cell_type": "code",
   "execution_count": 5,
   "id": "7d200c5c",
   "metadata": {},
   "outputs": [
    {
     "data": {
      "text/plain": [
       "array([[[220, 215, 190],\n",
       "        [220, 215, 190],\n",
       "        [220, 215, 190],\n",
       "        ...,\n",
       "        [182, 174, 151],\n",
       "        [182, 174, 151],\n",
       "        [182, 174, 151]],\n",
       "\n",
       "       [[220, 215, 190],\n",
       "        [220, 215, 190],\n",
       "        [220, 215, 190],\n",
       "        ...,\n",
       "        [182, 174, 151],\n",
       "        [182, 174, 151],\n",
       "        [182, 174, 151]],\n",
       "\n",
       "       [[220, 215, 190],\n",
       "        [220, 215, 190],\n",
       "        [220, 215, 190],\n",
       "        ...,\n",
       "        [182, 174, 151],\n",
       "        [182, 174, 151],\n",
       "        [182, 174, 151]],\n",
       "\n",
       "       ...,\n",
       "\n",
       "       [[  7,  63,  50],\n",
       "        [  6,  62,  49],\n",
       "        [  3,  59,  45],\n",
       "        ...,\n",
       "        [109, 112, 121],\n",
       "        [109, 111, 122],\n",
       "        [109, 111, 122]],\n",
       "\n",
       "       [[  7,  63,  51],\n",
       "        [  6,  62,  50],\n",
       "        [  3,  58,  46],\n",
       "        ...,\n",
       "        [110, 111, 121],\n",
       "        [109, 111, 121],\n",
       "        [109, 111, 122]],\n",
       "\n",
       "       [[  7,  63,  52],\n",
       "        [  6,  62,  51],\n",
       "        [  3,  58,  47],\n",
       "        ...,\n",
       "        [110, 111, 120],\n",
       "        [109, 111, 121],\n",
       "        [109, 111, 122]]], dtype=uint8)"
      ]
     },
     "execution_count": 5,
     "metadata": {},
     "output_type": "execute_result"
    }
   ],
   "source": [
    "img_size"
   ]
  },
  {
   "cell_type": "code",
   "execution_count": 4,
   "id": "64e83d7c",
   "metadata": {},
   "outputs": [
    {
     "name": "stdout",
     "output_type": "stream",
     "text": [
      "(720, 1280, 3)\n"
     ]
    }
   ],
   "source": [
    "print(img_size.shape)"
   ]
  },
  {
   "cell_type": "markdown",
   "id": "d450186f",
   "metadata": {},
   "source": [
    "# b = 0, g  = 1, r = 2"
   ]
  },
  {
   "cell_type": "code",
   "execution_count": 6,
   "id": "460b7192",
   "metadata": {},
   "outputs": [
    {
     "data": {
      "text/plain": [
       "array([[220, 220, 220, ..., 182, 182, 182],\n",
       "       [220, 220, 220, ..., 182, 182, 182],\n",
       "       [220, 220, 220, ..., 182, 182, 182],\n",
       "       ...,\n",
       "       [  7,   6,   3, ..., 109, 109, 109],\n",
       "       [  7,   6,   3, ..., 110, 109, 109],\n",
       "       [  7,   6,   3, ..., 110, 109, 109]], dtype=uint8)"
      ]
     },
     "execution_count": 6,
     "metadata": {},
     "output_type": "execute_result"
    }
   ],
   "source": [
    "img_size[:,:,0] # Blue"
   ]
  },
  {
   "cell_type": "code",
   "execution_count": 7,
   "id": "c8396f8f",
   "metadata": {},
   "outputs": [
    {
     "data": {
      "text/plain": [
       "(720, 1280)"
      ]
     },
     "execution_count": 7,
     "metadata": {},
     "output_type": "execute_result"
    }
   ],
   "source": [
    "img_size[:,:,0].shape"
   ]
  },
  {
   "cell_type": "code",
   "execution_count": 8,
   "id": "26e4d49f",
   "metadata": {},
   "outputs": [
    {
     "data": {
      "text/plain": [
       "array([[215, 215, 215, ..., 174, 174, 174],\n",
       "       [215, 215, 215, ..., 174, 174, 174],\n",
       "       [215, 215, 215, ..., 174, 174, 174],\n",
       "       ...,\n",
       "       [ 63,  62,  59, ..., 112, 111, 111],\n",
       "       [ 63,  62,  58, ..., 111, 111, 111],\n",
       "       [ 63,  62,  58, ..., 111, 111, 111]], dtype=uint8)"
      ]
     },
     "execution_count": 8,
     "metadata": {},
     "output_type": "execute_result"
    }
   ],
   "source": [
    "img_size[:,:,1] #Green"
   ]
  },
  {
   "cell_type": "code",
   "execution_count": 9,
   "id": "078e4ca3",
   "metadata": {},
   "outputs": [
    {
     "data": {
      "text/plain": [
       "array([[190, 190, 190, ..., 151, 151, 151],\n",
       "       [190, 190, 190, ..., 151, 151, 151],\n",
       "       [190, 190, 190, ..., 151, 151, 151],\n",
       "       ...,\n",
       "       [ 50,  49,  45, ..., 121, 122, 122],\n",
       "       [ 51,  50,  46, ..., 121, 121, 122],\n",
       "       [ 52,  51,  47, ..., 120, 121, 122]], dtype=uint8)"
      ]
     },
     "execution_count": 9,
     "metadata": {},
     "output_type": "execute_result"
    }
   ],
   "source": [
    "img_size[:,:,2] # Red"
   ]
  },
  {
   "cell_type": "markdown",
   "id": "115db5fe",
   "metadata": {},
   "source": [
    "# Split Image using cv2.split()"
   ]
  },
  {
   "cell_type": "code",
   "execution_count": 10,
   "id": "efeb8822",
   "metadata": {},
   "outputs": [
    {
     "name": "stdout",
     "output_type": "stream",
     "text": [
      "(720, 1280, 3)\n"
     ]
    }
   ],
   "source": [
    "print(img_size.shape)\n",
    "b,g,r = cv2.split(img_size)"
   ]
  },
  {
   "cell_type": "code",
   "execution_count": 11,
   "id": "4be395ea",
   "metadata": {},
   "outputs": [
    {
     "name": "stdout",
     "output_type": "stream",
     "text": [
      "(720, 1280)\n",
      "(720, 1280)\n",
      "(720, 1280)\n"
     ]
    }
   ],
   "source": [
    "print(b.shape)\n",
    "print(g.shape)\n",
    "print(r.shape)"
   ]
  },
  {
   "cell_type": "code",
   "execution_count": 12,
   "id": "073c4d7a",
   "metadata": {},
   "outputs": [
    {
     "data": {
      "text/plain": [
       "array([[220, 220, 220, ..., 182, 182, 182],\n",
       "       [220, 220, 220, ..., 182, 182, 182],\n",
       "       [220, 220, 220, ..., 182, 182, 182],\n",
       "       ...,\n",
       "       [  7,   6,   3, ..., 109, 109, 109],\n",
       "       [  7,   6,   3, ..., 110, 109, 109],\n",
       "       [  7,   6,   3, ..., 110, 109, 109]], dtype=uint8)"
      ]
     },
     "execution_count": 12,
     "metadata": {},
     "output_type": "execute_result"
    }
   ],
   "source": [
    "b"
   ]
  },
  {
   "cell_type": "code",
   "execution_count": 13,
   "id": "63963bdd",
   "metadata": {},
   "outputs": [
    {
     "data": {
      "text/plain": [
       "array([[215, 215, 215, ..., 174, 174, 174],\n",
       "       [215, 215, 215, ..., 174, 174, 174],\n",
       "       [215, 215, 215, ..., 174, 174, 174],\n",
       "       ...,\n",
       "       [ 63,  62,  59, ..., 112, 111, 111],\n",
       "       [ 63,  62,  58, ..., 111, 111, 111],\n",
       "       [ 63,  62,  58, ..., 111, 111, 111]], dtype=uint8)"
      ]
     },
     "execution_count": 13,
     "metadata": {},
     "output_type": "execute_result"
    }
   ],
   "source": [
    "g"
   ]
  },
  {
   "cell_type": "code",
   "execution_count": 14,
   "id": "af27e572",
   "metadata": {},
   "outputs": [
    {
     "data": {
      "text/plain": [
       "array([[190, 190, 190, ..., 151, 151, 151],\n",
       "       [190, 190, 190, ..., 151, 151, 151],\n",
       "       [190, 190, 190, ..., 151, 151, 151],\n",
       "       ...,\n",
       "       [ 50,  49,  45, ..., 121, 122, 122],\n",
       "       [ 51,  50,  46, ..., 121, 121, 122],\n",
       "       [ 52,  51,  47, ..., 120, 121, 122]], dtype=uint8)"
      ]
     },
     "execution_count": 14,
     "metadata": {},
     "output_type": "execute_result"
    }
   ],
   "source": [
    "r"
   ]
  },
  {
   "cell_type": "markdown",
   "id": "b53a528b",
   "metadata": {},
   "source": [
    "# Time Calculation to Split Image"
   ]
  },
  {
   "cell_type": "code",
   "execution_count": 15,
   "id": "32db6dc1",
   "metadata": {},
   "outputs": [
    {
     "name": "stdout",
     "output_type": "stream",
     "text": [
      "Total time to split 100 images 0.4822726249694824\n"
     ]
    }
   ],
   "source": [
    "import time\n",
    "start_time = time.time()\n",
    "for i in range(100):\n",
    "    r,g,r = cv2.split(img_size)\n",
    "    \n",
    "end_time = time.time()\n",
    "print(\"Total time to split 100 images\", end_time-start_time)"
   ]
  },
  {
   "cell_type": "code",
   "execution_count": 16,
   "id": "49b75c66",
   "metadata": {},
   "outputs": [
    {
     "name": "stdout",
     "output_type": "stream",
     "text": [
      "Total time to split 100 images 0.0009965896606445312\n"
     ]
    }
   ],
   "source": [
    "import time\n",
    "start_time = time.time()\n",
    "for i in range(100):\n",
    "    b = img_size[:,:,0]\n",
    "    g = img_size[:,:,1]\n",
    "    r = img_size[:,:,2]\n",
    "    \n",
    "end_time = time.time()\n",
    "print(\"Total time to split 100 images\", end_time-start_time)"
   ]
  },
  {
   "cell_type": "code",
   "execution_count": 17,
   "id": "904bac73",
   "metadata": {},
   "outputs": [
    {
     "data": {
      "text/plain": [
       "0.4812760353088379"
      ]
     },
     "execution_count": 17,
     "metadata": {},
     "output_type": "execute_result"
    }
   ],
   "source": [
    "0.4822726249694824 - 0.0009965896606445312"
   ]
  },
  {
   "cell_type": "markdown",
   "id": "3fd159a0",
   "metadata": {},
   "source": [
    "# Show Single Channel"
   ]
  },
  {
   "cell_type": "code",
   "execution_count": 18,
   "id": "0451bce9",
   "metadata": {},
   "outputs": [],
   "source": [
    "img_path = 'Data/Image/1.jpg'\n",
    "img = cv2.imread(img_path)\n",
    "img_size = cv2.resize(img,(1280,720))\n",
    "cv2.imshow('Blue',img_size[:,:,0])\n",
    "cv2.waitKey(0)\n",
    "cv2.destroyAllWindows()"
   ]
  },
  {
   "cell_type": "code",
   "execution_count": 19,
   "id": "70505901",
   "metadata": {},
   "outputs": [],
   "source": [
    "img_path = 'Data/Image/1.jpg'\n",
    "img = cv2.imread(img_path)\n",
    "img_size = cv2.resize(img,(1280,720))\n",
    "cv2.imshow('Green',img_size[:,:,1])\n",
    "cv2.waitKey(0)\n",
    "cv2.destroyAllWindows()"
   ]
  },
  {
   "cell_type": "code",
   "execution_count": 20,
   "id": "299e0168",
   "metadata": {},
   "outputs": [],
   "source": [
    "img_path = 'Data/Image/1.jpg'\n",
    "img = cv2.imread(img_path)\n",
    "img_size = cv2.resize(img,(1280,720))\n",
    "cv2.imshow('Red',img_size[:,:,2])\n",
    "cv2.waitKey(0)\n",
    "cv2.destroyAllWindows()"
   ]
  },
  {
   "cell_type": "code",
   "execution_count": 21,
   "id": "853f7b7a",
   "metadata": {},
   "outputs": [
    {
     "data": {
      "text/plain": [
       "array([[220, 220, 220, ..., 182, 182, 182],\n",
       "       [220, 220, 220, ..., 182, 182, 182],\n",
       "       [220, 220, 220, ..., 182, 182, 182],\n",
       "       ...,\n",
       "       [  7,   6,   3, ..., 109, 109, 109],\n",
       "       [  7,   6,   3, ..., 110, 109, 109],\n",
       "       [  7,   6,   3, ..., 110, 109, 109]], dtype=uint8)"
      ]
     },
     "execution_count": 21,
     "metadata": {},
     "output_type": "execute_result"
    }
   ],
   "source": [
    "b"
   ]
  },
  {
   "cell_type": "code",
   "execution_count": 22,
   "id": "d447d162",
   "metadata": {},
   "outputs": [
    {
     "data": {
      "text/plain": [
       "array([[215, 215, 215, ..., 174, 174, 174],\n",
       "       [215, 215, 215, ..., 174, 174, 174],\n",
       "       [215, 215, 215, ..., 174, 174, 174],\n",
       "       ...,\n",
       "       [ 63,  62,  59, ..., 112, 111, 111],\n",
       "       [ 63,  62,  58, ..., 111, 111, 111],\n",
       "       [ 63,  62,  58, ..., 111, 111, 111]], dtype=uint8)"
      ]
     },
     "execution_count": 22,
     "metadata": {},
     "output_type": "execute_result"
    }
   ],
   "source": [
    "g"
   ]
  },
  {
   "cell_type": "code",
   "execution_count": 23,
   "id": "29f79124",
   "metadata": {},
   "outputs": [
    {
     "data": {
      "text/plain": [
       "array([[190, 190, 190, ..., 151, 151, 151],\n",
       "       [190, 190, 190, ..., 151, 151, 151],\n",
       "       [190, 190, 190, ..., 151, 151, 151],\n",
       "       ...,\n",
       "       [ 50,  49,  45, ..., 121, 122, 122],\n",
       "       [ 51,  50,  46, ..., 121, 121, 122],\n",
       "       [ 52,  51,  47, ..., 120, 121, 122]], dtype=uint8)"
      ]
     },
     "execution_count": 23,
     "metadata": {},
     "output_type": "execute_result"
    }
   ],
   "source": [
    "r"
   ]
  },
  {
   "cell_type": "code",
   "execution_count": 24,
   "id": "910eeb9d",
   "metadata": {},
   "outputs": [],
   "source": [
    "img_path = 'Data/Image/1.jpg'\n",
    "img = cv2.imread(img_path)\n",
    "img_size = cv2.resize(img,(1280,720))\n",
    "b,g,r = cv2.split(img_size)\n",
    "cv2.imshow('b',b)\n",
    "cv2.imshow('g',g)\n",
    "cv2.imshow('r',r)\n",
    "cv2.waitKey(0)\n",
    "cv2.destroyAllWindows()"
   ]
  },
  {
   "cell_type": "markdown",
   "id": "beb54238",
   "metadata": {},
   "source": [
    "# Merge Image"
   ]
  },
  {
   "cell_type": "code",
   "execution_count": 27,
   "id": "14b870e7",
   "metadata": {},
   "outputs": [],
   "source": [
    "# merge(mv[, dst]) -> dst\n",
    "# .   @overload\n",
    "# .   @param mv input vector of matrices to be merged; all the matrices in mv must have the same\n",
    "# .   size and the same depth.\n",
    "# .   @param dst output array of the same size and the same depth as m\n",
    "merge_img = cv2.merge([b,g,r])"
   ]
  },
  {
   "cell_type": "code",
   "execution_count": 28,
   "id": "bfdd9c1a",
   "metadata": {},
   "outputs": [
    {
     "data": {
      "text/plain": [
       "(720, 1280, 3)"
      ]
     },
     "execution_count": 28,
     "metadata": {},
     "output_type": "execute_result"
    }
   ],
   "source": [
    "merge_img.shape"
   ]
  },
  {
   "cell_type": "code",
   "execution_count": 29,
   "id": "db6b592f",
   "metadata": {},
   "outputs": [],
   "source": [
    "cv2.imshow('Merge Image',merge_img)\n",
    "cv2.waitKey(0)\n",
    "cv2.destroyAllWindows()"
   ]
  },
  {
   "cell_type": "code",
   "execution_count": null,
   "id": "598ad8e1",
   "metadata": {},
   "outputs": [],
   "source": []
  },
  {
   "cell_type": "code",
   "execution_count": null,
   "id": "2407323f",
   "metadata": {},
   "outputs": [],
   "source": []
  },
  {
   "cell_type": "code",
   "execution_count": null,
   "id": "cdbbe34f",
   "metadata": {},
   "outputs": [],
   "source": []
  },
  {
   "cell_type": "code",
   "execution_count": null,
   "id": "e2dc9159",
   "metadata": {},
   "outputs": [],
   "source": []
  },
  {
   "cell_type": "code",
   "execution_count": null,
   "id": "079fe5f5",
   "metadata": {},
   "outputs": [],
   "source": []
  },
  {
   "cell_type": "code",
   "execution_count": null,
   "id": "3bdd1fde",
   "metadata": {},
   "outputs": [],
   "source": []
  }
 ],
 "metadata": {
  "kernelspec": {
   "display_name": "Python 3 (ipykernel)",
   "language": "python",
   "name": "python3"
  },
  "language_info": {
   "codemirror_mode": {
    "name": "ipython",
    "version": 3
   },
   "file_extension": ".py",
   "mimetype": "text/x-python",
   "name": "python",
   "nbconvert_exporter": "python",
   "pygments_lexer": "ipython3",
   "version": "3.8.0"
  }
 },
 "nbformat": 4,
 "nbformat_minor": 5
}
