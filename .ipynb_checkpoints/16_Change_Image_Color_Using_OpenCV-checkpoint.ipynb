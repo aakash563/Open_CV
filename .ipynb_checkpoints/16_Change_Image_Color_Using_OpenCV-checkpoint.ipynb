{
 "cells": [
  {
   "cell_type": "markdown",
   "id": "c278f9cc",
   "metadata": {},
   "source": [
    "# Image Colour Conversion using cv2.cvtColor() Function\n"
   ]
  },
  {
   "cell_type": "code",
   "execution_count": 1,
   "id": "e97dedc3",
   "metadata": {},
   "outputs": [],
   "source": [
    "import cv2\n",
    "import numpy as np\n",
    "import os"
   ]
  },
  {
   "cell_type": "code",
   "execution_count": 2,
   "id": "6c78d6e5",
   "metadata": {},
   "outputs": [
    {
     "data": {
      "text/plain": [
       "['1.jpg', '2.jpg', '3.jpg', '4.jpg', '5.jpg']"
      ]
     },
     "execution_count": 2,
     "metadata": {},
     "output_type": "execute_result"
    }
   ],
   "source": [
    "os.listdir('Data/Image/')"
   ]
  },
  {
   "cell_type": "code",
   "execution_count": 3,
   "id": "f32c4502",
   "metadata": {},
   "outputs": [],
   "source": [
    "img_path = 'Data/Image/1.jpg'\n",
    "img = cv2.imread(img_path)\n",
    "img_size = cv2.resize(img,(1280,720))\n",
    "cv2.imshow('aakash',img_size)\n",
    "cv2.waitKey(0)\n",
    "cv2.destroyAllWindows()"
   ]
  },
  {
   "cell_type": "code",
   "execution_count": 4,
   "id": "d59ee8c8",
   "metadata": {},
   "outputs": [
    {
     "data": {
      "text/plain": [
       "(720, 1280, 3)"
      ]
     },
     "execution_count": 4,
     "metadata": {},
     "output_type": "execute_result"
    }
   ],
   "source": [
    "img_size.shape"
   ]
  },
  {
   "cell_type": "code",
   "execution_count": 5,
   "id": "8588dede",
   "metadata": {},
   "outputs": [],
   "source": [
    "img_size[:,:,0]# Blue\n",
    "img_blue = img_size[:,:,0]\n",
    "cv2.imshow('Blue',img_blue)\n",
    "cv2.waitKey(0)\n",
    "cv2.destroyAllWindows()"
   ]
  },
  {
   "cell_type": "code",
   "execution_count": 6,
   "id": "71eac51c",
   "metadata": {},
   "outputs": [],
   "source": [
    "img_size[:,:,1] # Green\n",
    "img_green = img_size[:,:,1]\n",
    "cv2.imshow('Green',img_green)\n",
    "cv2.waitKey(0)\n",
    "cv2.destroyAllWindows()"
   ]
  },
  {
   "cell_type": "code",
   "execution_count": 7,
   "id": "fe17f6ee",
   "metadata": {},
   "outputs": [],
   "source": [
    "img_size[:,:,2] # Red\n",
    "img_red = img_size[:,:,2]\n",
    "cv2.imshow('Red',img_red)\n",
    "cv2.waitKey(0)\n",
    "cv2.destroyAllWindows()"
   ]
  },
  {
   "cell_type": "markdown",
   "id": "08a16488",
   "metadata": {},
   "source": [
    "# Convert Color Image to Gray"
   ]
  },
  {
   "cell_type": "code",
   "execution_count": null,
   "id": "1dffb853",
   "metadata": {},
   "outputs": [],
   "source": [
    "img_path = 'Data/Image/1.jpg'\n",
    "img = cv2.imread(img_path)\n",
    "img_size = cv2.resize(img,(1280,720))\n",
    "# cvtColor(src, code[, dst[, dstCn]]) -> dst\n",
    "img_gray = cv2.cvtColor(img_size,cv2.COLOR_BGR2GRAY)\n",
    "cv2.imshow('Gray_Image',img_gray)\n",
    "cv2.waitKey(0)\n",
    "cv2.destroyAllWindows()"
   ]
  },
  {
   "cell_type": "code",
   "execution_count": null,
   "id": "53b18cdb",
   "metadata": {},
   "outputs": [],
   "source": [
    "img_path = 'Data/Image/1.jpg'\n",
    "img = cv2.imread(img_path)\n",
    "img_size = cv2.resize(img,(1280,720))\n",
    "# cvtColor(src, code[, dst[, dstCn]]) -> dst\n",
    "img_gray = cv2.cvtColor(img_size,6)\n",
    "cv2.imshow('Gray_Image',img_gray)\n",
    "cv2.waitKey(0)\n",
    "cv2.destroyAllWindows()"
   ]
  },
  {
   "cell_type": "code",
   "execution_count": null,
   "id": "a6aaea59",
   "metadata": {},
   "outputs": [],
   "source": [
    "cv2.COLOR_BGR2GRAY"
   ]
  },
  {
   "cell_type": "code",
   "execution_count": null,
   "id": "5de5cfdb",
   "metadata": {},
   "outputs": [],
   "source": [
    "img_path = 'Data/Image/1.jpg'\n",
    "img = cv2.imread(img_path)\n",
    "img_size = cv2.resize(img,(1280,720))\n",
    "# cvtColor(src, code[, dst[, dstCn]]) -> dst\n",
    "# Each item had int value\n",
    "color_name = [cv2.COLOR_BGR2GRAY,cv2.COLOR_BGR2HLS,cv2.COLOR_BGR2HLS_FULL,cv2.COLOR_BGR2LAB]\n",
    "for color_number in color_name:\n",
    "    print('Color Name',color_number)\n",
    "    color_image = cv2.cvtColor(img_size,color_number)\n",
    "    cv2.imshow(f'Image Of color number *{color_number}*',color_image)\n",
    "    cv2.waitKey(2000)\n",
    "    cv2.destroyAllWindows()"
   ]
  },
  {
   "cell_type": "code",
   "execution_count": null,
   "id": "7c86fb9d",
   "metadata": {},
   "outputs": [],
   "source": []
  }
 ],
 "metadata": {
  "kernelspec": {
   "display_name": "Python 3 (ipykernel)",
   "language": "python",
   "name": "python3"
  },
  "language_info": {
   "codemirror_mode": {
    "name": "ipython",
    "version": 3
   },
   "file_extension": ".py",
   "mimetype": "text/x-python",
   "name": "python",
   "nbconvert_exporter": "python",
   "pygments_lexer": "ipython3",
   "version": "3.8.0"
  }
 },
 "nbformat": 4,
 "nbformat_minor": 5
}
