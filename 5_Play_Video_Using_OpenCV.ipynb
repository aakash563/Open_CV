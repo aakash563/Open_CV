{
 "cells": [
  {
   "cell_type": "markdown",
   "id": "1ef4121b",
   "metadata": {},
   "source": [
    "# How to Play Video\n",
    "* Access Camera\n",
    "* Multiple Video/Camera one Window"
   ]
  },
  {
   "cell_type": "code",
   "execution_count": null,
   "id": "ff9488fa",
   "metadata": {},
   "outputs": [],
   "source": [
    "import numpy as np\n",
    "import cv2\n",
    "import os"
   ]
  },
  {
   "cell_type": "code",
   "execution_count": null,
   "id": "b4ccf2dd",
   "metadata": {},
   "outputs": [],
   "source": [
    "video_path = 'Data/Video'\n",
    "os.listdir(video_path)"
   ]
  },
  {
   "cell_type": "code",
   "execution_count": null,
   "id": "b3292010",
   "metadata": {},
   "outputs": [],
   "source": [
    "video_path1 = 'Data/Video/aakash.mp4'\n",
    "video_path2 = 'Data/Video/aakash_Singh.mp4'"
   ]
  },
  {
   "cell_type": "code",
   "execution_count": null,
   "id": "b2a458c0",
   "metadata": {},
   "outputs": [],
   "source": [
    "cap = cv2.VideoCapture(video_path1)\n",
    "\n",
    "while cap.isOpened():\n",
    "    ret, frame = cap.read()\n",
    "    if ret:\n",
    "        image = cv2.resize(frame,(600,400))\n",
    "        cv2.imshow('aakash',image)\n",
    "        \n",
    "        if cv2.waitKey(25) & 0xff == ord('q'):\n",
    "            break\n",
    "    else:\n",
    "        break\n",
    "        \n",
    "        \n",
    "cap.release()\n",
    "cv2.destroyAllWindows()"
   ]
  },
  {
   "cell_type": "markdown",
   "id": "af758440",
   "metadata": {},
   "source": [
    "# Live Video\n"
   ]
  },
  {
   "cell_type": "code",
   "execution_count": null,
   "id": "f8a2e555",
   "metadata": {},
   "outputs": [],
   "source": [
    "cap = cv2.VideoCapture(0)\n",
    "\n",
    "while cap.isOpened():\n",
    "    ret, frame = cap.read()\n",
    "    if ret:\n",
    "        image = cv2.resize(frame,(600,400))\n",
    "        cv2.imshow('aakash',image)\n",
    "        \n",
    "        if cv2.waitKey(25) & 0xff == ord('q'):\n",
    "            break\n",
    "    else:\n",
    "        break\n",
    "        \n",
    "        \n",
    "cap.release()\n",
    "cv2.destroyAllWindows()"
   ]
  },
  {
   "cell_type": "markdown",
   "id": "137abf85",
   "metadata": {},
   "source": [
    "# Four Video Simulataniously"
   ]
  },
  {
   "cell_type": "code",
   "execution_count": null,
   "id": "f5409f19",
   "metadata": {},
   "outputs": [],
   "source": [
    "cap = cv2.VideoCapture(video_path1)\n",
    "while cap.isOpened():\n",
    "    \n",
    "    ret, frame = cap.read()\n",
    "    if ret:\n",
    "        frame_1 = cv2.resize(frame,(600,400))\n",
    "        frame_2 = np.hstack((frame_1,frame_1))\n",
    "        frame_4 = np.vstack((frame_2,frame_2))\n",
    "        cv2.imshow('aakash_4',frame_4)\n",
    "        \n",
    "        if cv2.waitKey(25) & 0xff == ord('e'):\n",
    "            break\n",
    "    else:\n",
    "        break\n",
    "cap.release()\n",
    "cv2.destroyAllWindows()"
   ]
  },
  {
   "cell_type": "code",
   "execution_count": null,
   "id": "696c74c0",
   "metadata": {},
   "outputs": [],
   "source": [
    "image = 'Data/Image/'\n",
    "os.listdir(image)"
   ]
  },
  {
   "cell_type": "code",
   "execution_count": null,
   "id": "88d32901",
   "metadata": {},
   "outputs": [],
   "source": [
    "img_path = image + '/' + '1.jpg'\n",
    "cap1 = cv2.VideoCapture(video_path1)\n",
    "cap2 = cv2.VideoCapture(video_path2)\n",
    "cap3 = cv2.VideoCapture(0)\n",
    "\n",
    "while cap1.isOpened():\n",
    "    ret1, frame1 = cap1.read()\n",
    "    ret2, frame2 = cap2.read()\n",
    "    ret3, frame3 = cap3.read()\n",
    "    if ret1:\n",
    "        frame1 = cv2.resize(frame1,(600,400))\n",
    "        frame2 = cv2.resize(frame2,(600,400))\n",
    "        frame3 = cv2.resize(frame3,(600,400))\n",
    "        frame4 = cv2.imread(img_path)\n",
    "        frame4 = cv2.resize(frame4,(600,400))\n",
    "        frame_2_1 = np.hstack((frame1,frame2))\n",
    "        frame_2_2 = np.hstack((frame3,frame4))\n",
    "        frame_4 = np.vstack((frame_2_1,frame_2_2))\n",
    "        cv2.imshow('Aakash_Singh',frame_4)\n",
    "        \n",
    "        if cv2.waitKey(25) & 0xff == ord('q'):\n",
    "            break\n",
    "    else:\n",
    "        break\n",
    "cap1.release()\n",
    "cap2.release()\n",
    "cap3.release()\n",
    "cv2.destroyAllWindows()"
   ]
  },
  {
   "cell_type": "code",
   "execution_count": null,
   "id": "d18dd8fc",
   "metadata": {},
   "outputs": [],
   "source": []
  }
 ],
 "metadata": {
  "kernelspec": {
   "display_name": "Python 3 (ipykernel)",
   "language": "python",
   "name": "python3"
  },
  "language_info": {
   "codemirror_mode": {
    "name": "ipython",
    "version": 3
   },
   "file_extension": ".py",
   "mimetype": "text/x-python",
   "name": "python",
   "nbconvert_exporter": "python",
   "pygments_lexer": "ipython3",
   "version": "3.8.0"
  }
 },
 "nbformat": 4,
 "nbformat_minor": 5
}
