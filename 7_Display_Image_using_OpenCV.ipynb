{
 "cells": [
  {
   "cell_type": "markdown",
   "id": "064e57bf",
   "metadata": {},
   "source": [
    "# Display_Image\n",
    "* Syntax: cv2.imshow(window_name, ndarray)\n",
    "    * This function help to show image or numpy array in the form of image"
   ]
  },
  {
   "cell_type": "code",
   "execution_count": 5,
   "id": "bdf4c472",
   "metadata": {},
   "outputs": [],
   "source": [
    "import numpy as np\n",
    "import cv2\n",
    "import os"
   ]
  },
  {
   "cell_type": "code",
   "execution_count": 2,
   "id": "148fd4c7",
   "metadata": {},
   "outputs": [
    {
     "data": {
      "text/plain": [
       "array([[0., 0., 0., ..., 0., 0., 0.],\n",
       "       [0., 0., 0., ..., 0., 0., 0.],\n",
       "       [0., 0., 0., ..., 0., 0., 0.],\n",
       "       ...,\n",
       "       [0., 0., 0., ..., 0., 0., 0.],\n",
       "       [0., 0., 0., ..., 0., 0., 0.],\n",
       "       [0., 0., 0., ..., 0., 0., 0.]])"
      ]
     },
     "execution_count": 2,
     "metadata": {},
     "output_type": "execute_result"
    }
   ],
   "source": [
    "matx = np.zeros((200,200))\n",
    "matx"
   ]
  },
  {
   "cell_type": "code",
   "execution_count": 3,
   "id": "23549f7f",
   "metadata": {},
   "outputs": [],
   "source": [
    "cv2.imshow('matx',matx)\n",
    "cv2.waitKey(0)\n",
    "cv2.destroyAllWindows()"
   ]
  },
  {
   "cell_type": "code",
   "execution_count": 4,
   "id": "dfc71d37",
   "metadata": {},
   "outputs": [],
   "source": [
    "matx_1 = np.ones((200,200))\n",
    "cv2.imshow('ones',matx_1)\n",
    "cv2.waitKey(0)\n",
    "cv2.destroyAllWindows()"
   ]
  },
  {
   "cell_type": "code",
   "execution_count": 6,
   "id": "5b5e313b",
   "metadata": {},
   "outputs": [
    {
     "data": {
      "text/plain": [
       "['1.jpg', '2.jpg', '3.jpg', '4.jpg', '5.jpg']"
      ]
     },
     "execution_count": 6,
     "metadata": {},
     "output_type": "execute_result"
    }
   ],
   "source": [
    "path = 'Data/Image/'\n",
    "os.listdir(path)"
   ]
  },
  {
   "cell_type": "code",
   "execution_count": 7,
   "id": "4c43b701",
   "metadata": {},
   "outputs": [],
   "source": [
    "img_path = path + '/'+'1.jpg'\n",
    "img = cv2.imread(img_path)\n",
    "cv2.imshow('Model_image',img)\n",
    "cv2.waitKey(0)\n",
    "cv2.destroyAllWindows()"
   ]
  },
  {
   "cell_type": "code",
   "execution_count": 8,
   "id": "4f2b6800",
   "metadata": {},
   "outputs": [],
   "source": [
    "img_path = path + '/'+'1.jpg'\n",
    "img = cv2.imread(img_path)\n",
    "img = cv2.resize(img,(200,200))\n",
    "cv2.imshow('Model_image',img)\n",
    "cv2.waitKey(0)\n",
    "cv2.destroyAllWindows()"
   ]
  },
  {
   "cell_type": "code",
   "execution_count": 12,
   "id": "012276e2",
   "metadata": {},
   "outputs": [],
   "source": [
    "img_path = path + '/'+'1.jpg'\n",
    "img = cv2.imread(img_path)\n",
    "# img = cv2.resize(img,(200,200))\n",
    "cv2.imshow('Model_image_1',img)\n",
    "cv2.imshow('Model_image_2',img)\n",
    "cv2.imshow('Model_image_3',img)\n",
    "cv2.waitKey(0)\n",
    "cv2.destroyAllWindows()"
   ]
  },
  {
   "cell_type": "code",
   "execution_count": null,
   "id": "7dbe917e",
   "metadata": {},
   "outputs": [],
   "source": []
  }
 ],
 "metadata": {
  "kernelspec": {
   "display_name": "Python 3 (ipykernel)",
   "language": "python",
   "name": "python3"
  },
  "language_info": {
   "codemirror_mode": {
    "name": "ipython",
    "version": 3
   },
   "file_extension": ".py",
   "mimetype": "text/x-python",
   "name": "python",
   "nbconvert_exporter": "python",
   "pygments_lexer": "ipython3",
   "version": "3.8.0"
  }
 },
 "nbformat": 4,
 "nbformat_minor": 5
}
